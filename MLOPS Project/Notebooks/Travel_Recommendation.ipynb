{
 "cells": [
  {
   "cell_type": "code",
   "execution_count": 22,
   "metadata": {},
   "outputs": [],
   "source": [
    "import numpy as np\n",
    "import pandas as pd\n",
    "import nltk\n",
    "from nltk.corpus import stopwords\n",
    "from sklearn.feature_extraction.text import CountVectorizer\n",
    "from sklearn.metrics.pairwise import cosine_similarity\n",
    "import warnings\n",
    "import joblib\n",
    "# Setup\n",
    "warnings.filterwarnings('ignore')"
   ]
  },
  {
   "cell_type": "code",
   "execution_count": 2,
   "metadata": {},
   "outputs": [],
   "source": [
    "hotels_data = pd.read_csv('../Data/hotels.csv')"
   ]
  },
  {
   "cell_type": "code",
   "execution_count": 3,
   "metadata": {},
   "outputs": [],
   "source": [
    "hotels_data.drop(['travelCode', 'userCode'], axis=1, inplace=True)"
   ]
  },
  {
   "cell_type": "code",
   "execution_count": 4,
   "id": "313bad6a",
   "metadata": {},
   "outputs": [],
   "source": [
    "hotels_data['features'] = (\n",
    "    hotels_data['name'].astype(str) + ' ' +\n",
    "    hotels_data['place'].astype(str) + ' ' +\n",
    "    hotels_data['days'].astype(str) + ' days ' +\n",
    "    hotels_data['price'].astype(str) + ' price ' +\n",
    "    hotels_data['total'].astype(str) + ' total'\n",
    ")"
   ]
  },
  {
   "cell_type": "code",
   "execution_count": 5,
   "id": "18a54ea9",
   "metadata": {},
   "outputs": [],
   "source": [
    "# Vectorize features\n",
    "cv = CountVectorizer(max_features=5000, stop_words='english')\n",
    "features_matrix = cv.fit_transform(hotels_data['features']).toarray()"
   ]
  },
  {
   "cell_type": "code",
   "execution_count": 6,
   "id": "f3fc00f7",
   "metadata": {},
   "outputs": [],
   "source": [
    "# Cosine similarity\n",
    "cos_sim = cosine_similarity(features_matrix)"
   ]
  },
  {
   "cell_type": "code",
   "execution_count": 7,
   "id": "702d33e7",
   "metadata": {},
   "outputs": [],
   "source": [
    "# Rename columns in final output\n",
    "hotels_data.rename(columns={'name': 'Hotel_name', 'place': 'Places'}, inplace=True)"
   ]
  },
  {
   "cell_type": "code",
   "execution_count": null,
   "id": "7eba89e0",
   "metadata": {},
   "outputs": [],
   "source": [
    "# Final unified recommendation function\n",
    "def recommend_hotels(input_value, num_recommendations=5):\n",
    "    input_value = input_value.strip()\n",
    "\n",
    "    # Case 1: Input is a Hotel Name\n",
    "    if input_value in hotels_data['Hotel_name'].values:\n",
    "        print(f\"\\nYou entered a Hotel Name: '{input_value}'\\n\")\n",
    "\n",
    "        hotel_index = hotels_data[hotels_data['Hotel_name'] == input_value].index[0]\n",
    "        input_hotel_name = hotels_data.loc[hotel_index, 'Hotel_name']\n",
    "\n",
    "        similar_hotels = list(enumerate(cos_sim[hotel_index]))\n",
    "        similar_hotels = sorted(similar_hotels, key=lambda x: x[1], reverse=True)\n",
    "\n",
    "        # Remove same hotel name from results\n",
    "        filtered_hotels = [i for i in similar_hotels if hotels_data.loc[i[0], 'Hotel_name'] != input_hotel_name]\n",
    "\n",
    "        # Get top unique hotel names with different names\n",
    "        seen = set()\n",
    "        top_indices = []\n",
    "        for idx, _ in filtered_hotels:\n",
    "            name = hotels_data.loc[idx, 'Hotel_name']\n",
    "            if name not in seen:\n",
    "                seen.add(name)\n",
    "                top_indices.append(idx)\n",
    "            if len(top_indices) >= num_recommendations:\n",
    "                break\n",
    "\n",
    "        return hotels_data.iloc[top_indices][['Hotel_name', 'Places']]\n",
    "\n",
    "    # Case 2: Input is a Place\n",
    "    elif input_value in hotels_data['Places'].values:\n",
    "        print(f\"\\n You entered a Place: '{input_value}'\\n\")\n",
    "\n",
    "        place_indices = hotels_data[hotels_data['Places'] == input_value].index.tolist()\n",
    "        avg_similarity = np.mean(cos_sim[place_indices], axis=0)\n",
    "\n",
    "        similar_hotels = list(enumerate(avg_similarity))\n",
    "        similar_hotels = sorted(similar_hotels, key=lambda x: x[1], reverse=True)\n",
    "\n",
    "        # Filter out same place and duplicate hotel names\n",
    "        filtered_hotels = [\n",
    "            i for i in similar_hotels\n",
    "            if hotels_data.loc[i[0], 'Places'] != input_value\n",
    "        ]\n",
    "\n",
    "        seen_places = set()\n",
    "        seen_hotels = set()\n",
    "        top_indices = []\n",
    "\n",
    "        for idx, _ in filtered_hotels:\n",
    "            name = hotels_data.loc[idx, 'Hotel_name']\n",
    "            place = hotels_data.loc[idx, 'Places']\n",
    "            if (name, place) not in seen_hotels and place not in seen_places:\n",
    "                seen_hotels.add((name, place))\n",
    "                seen_places.add(place)\n",
    "                top_indices.append(idx)\n",
    "            if len(top_indices) >= num_recommendations:\n",
    "                break\n",
    "\n",
    "        return hotels_data.iloc[top_indices][['Hotel_name', 'Places']]\n",
    "\n",
    "    else:\n",
    "        return f\" No hotel or place found for: '{input_value}'\""
   ]
  },
  {
   "cell_type": "code",
   "execution_count": 20,
   "id": "3f104cab",
   "metadata": {},
   "outputs": [
    {
     "name": "stdout",
     "output_type": "stream",
     "text": [
      "\n",
      "🔍 You entered a Hotel Name: 'Hotel K'\n",
      "\n",
      "  Hotel_name              Places\n",
      "0    Hotel A  Florianopolis (SC)\n",
      "6    Hotel Z        Aracaju (SE)\n",
      "8   Hotel AF      Sao Paulo (SP)\n",
      "5   Hotel BD          Natal (RN)\n",
      "7   Hotel AU         Recife (PE)\n"
     ]
    }
   ],
   "source": [
    "# Hotel-based recommendation\n",
    "print(recommend_hotels(\"Hotel K\", num_recommendations=5))"
   ]
  },
  {
   "cell_type": "code",
   "execution_count": 21,
   "id": "73d1e0ba",
   "metadata": {},
   "outputs": [
    {
     "name": "stdout",
     "output_type": "stream",
     "text": [
      "\n",
      "🌍 You entered a Place: 'Salvador (BH)'\n",
      "\n",
      "   Hotel_name              Places\n",
      "48   Hotel BD          Natal (RN)\n",
      "0     Hotel A  Florianopolis (SC)\n",
      "6     Hotel Z        Aracaju (SE)\n",
      "8    Hotel AF      Sao Paulo (SP)\n",
      "7    Hotel AU         Recife (PE)\n"
     ]
    }
   ],
   "source": [
    "# Place-based recommendation\n",
    "print(recommend_hotels(\"Salvador (BH)\", num_recommendations=5))"
   ]
  }
 ],
 "metadata": {
  "kernelspec": {
   "display_name": "voyage_analytics",
   "language": "python",
   "name": "python3"
  },
  "language_info": {
   "codemirror_mode": {
    "name": "ipython",
    "version": 3
   },
   "file_extension": ".py",
   "mimetype": "text/x-python",
   "name": "python",
   "nbconvert_exporter": "python",
   "pygments_lexer": "ipython3",
   "version": "3.10.18"
  }
 },
 "nbformat": 4,
 "nbformat_minor": 5
}
